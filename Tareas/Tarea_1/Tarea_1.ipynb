{
 "cells": [
  {
   "cell_type": "markdown",
   "metadata": {},
   "source": [
    "## Problema de radiación de cuerpo negro"
   ]
  },
  {
   "cell_type": "markdown",
   "metadata": {},
   "source": [
    "**A) Escriba un código para hacer la gráfica de la densidad de energía por unidad de frecuencia, como\n",
    "funci´on de la longitud de onda. Haga curvas para temperaturas de 10000 K, 8000 K, 5000 K y 3000\n",
    "K.**"
   ]
  }
 ],
 "metadata": {
  "kernelspec": {
   "display_name": "Python 3",
   "language": "python",
   "name": "python3"
  },
  "language_info": {
   "name": "python",
   "version": "3.9.12"
  },
  "orig_nbformat": 4
 },
 "nbformat": 4,
 "nbformat_minor": 2
}
